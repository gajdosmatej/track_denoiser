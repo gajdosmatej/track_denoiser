{
 "cells": [
  {
   "cell_type": "code",
   "execution_count": 1,
   "metadata": {},
   "outputs": [
    {
     "name": "stderr",
     "output_type": "stream",
     "text": [
      "2024-03-01 14:59:27.393008: I tensorflow/core/platform/cpu_feature_guard.cc:182] This TensorFlow binary is optimized to use available CPU instructions in performance-critical operations.\n",
      "To enable the following instructions: SSE4.1 SSE4.2 AVX AVX2 FMA, in other operations, rebuild TensorFlow with the appropriate compiler flags.\n"
     ]
    }
   ],
   "source": [
    "#Imports\n",
    "import sys\n",
    "sys.path.append(\"../\")\n",
    "import numpy\n",
    "import matplotlib\n",
    "from classes import ModelWrapper, DataLoader, Cluster, Plotting\n",
    "\n",
    "#Interactive matplotlib plots\n",
    "%matplotlib widget"
   ]
  },
  {
   "cell_type": "code",
   "execution_count": 2,
   "metadata": {},
   "outputs": [
    {
     "name": "stderr",
     "output_type": "stream",
     "text": [
      "2024-03-01 14:59:29.114616: I tensorflow/core/common_runtime/process_util.cc:146] Creating new thread pool with default inter op setting: 2. Tune using inter_op_parallelism_threads for best performance.\n"
     ]
    },
    {
     "name": "stdout",
     "output_type": "stream",
     "text": [
      "21/21 [==============================] - 5s 236ms/step\n"
     ]
    }
   ],
   "source": [
    "#Initialisation\n",
    "modelAPI = ModelWrapper.loadPostprocessed(\"../models/3D/base\", \"base\")\n",
    "track_type = \"alltracks\"\n",
    "data_loader = DataLoader(\"../data\")\n",
    "noisy = data_loader.getBatch(True, True, track_type=track_type, normalising=True)\n",
    "noisy_with_E = data_loader.getBatch(True, True, track_type=track_type, normalising=False)\n",
    "clean = data_loader.getBatch(True,False, track_type=track_type)\n",
    "classified = modelAPI.classify( modelAPI.evaluateBatch(noisy) )\n",
    "names = data_loader.getX17Names(track_type)"
   ]
  },
  {
   "cell_type": "code",
   "execution_count": 3,
   "metadata": {},
   "outputs": [
    {
     "name": "stdout",
     "output_type": "stream",
     "text": [
      "# nonNN clusters: 815\n",
      "# nonNN good clusters: 377\n",
      "# NN clusters: 572\n",
      "# NN good clusters: 291\n",
      "\n",
      "nonNN relative precision: 0.4625766871165644\n",
      "NN relative precision: 0.5087412587412588\n"
     ]
    }
   ],
   "source": [
    "#Find all and good clusters numbers\n",
    "NN_all = 0\n",
    "NN_good = 0\n",
    "nonNN_all = 0\n",
    "nonNN_good = 0\n",
    "\n",
    "for i in range(classified.shape[0]):\n",
    "\tfor cluster in Cluster.clusterise(clean[i]):\n",
    "\t\tcluster.setEnergy(noisy_with_E[i])\n",
    "\t\tcluster.runTests()\n",
    "\t\tif cluster.isGood():\tnonNN_good += 1\n",
    "\t\tnonNN_all += 1\n",
    "\n",
    "\tfor cluster in Cluster.clusterise(classified[i]):\n",
    "\t\tcluster.setEnergy(noisy_with_E[i])\n",
    "\t\tcluster.runTests()\n",
    "\t\tif cluster.isGood():\tNN_good += 1\n",
    "\t\tNN_all += 1\n",
    "\n",
    "print(\"# nonNN clusters:\", nonNN_all)\n",
    "print(\"# nonNN good clusters:\", nonNN_good)\n",
    "print(\"# NN clusters:\", NN_all)\n",
    "print(\"# NN good clusters:\", NN_good)\n",
    "print(\"\")\n",
    "print(\"nonNN relative precision:\", nonNN_good / nonNN_all)\n",
    "print(\"NN relative precision:\", NN_good / NN_all)"
   ]
  },
  {
   "cell_type": "code",
   "execution_count": 4,
   "metadata": {},
   "outputs": [
    {
     "name": "stdout",
     "output_type": "stream",
     "text": [
      "# nonNN clusters after defragmentation: 699\n",
      "# nonNN good clusters after defragmentation: 257\n",
      "# NN clusters after defragmentation: 559\n",
      "# NN good clusters after defragmentation: 280\n",
      "\n",
      "nonNN relative precision: 0.3676680972818312\n",
      "NN relative precision: 0.5008944543828264\n",
      "\n",
      "nonNN fragmentation number: 116\n",
      "NN fragmentation number: 13\n"
     ]
    }
   ],
   "source": [
    "#Fragmentation analysis\n",
    "NN_all = 0\n",
    "NN_good = 0\n",
    "nonNN_all = 0\n",
    "nonNN_good = 0\n",
    "NN_fragmentation_number = 0\n",
    "nonNN_fragmentation_number = 0\n",
    "\n",
    "for i in range(classified.shape[0]):\n",
    "\tclusters_nonNN = Cluster.clusterise(clean[i])\n",
    "\tclusters_NN = Cluster.clusterise(classified[i])\n",
    "\tclusters_nonNN_defrag, clusters_NN_defrag, are_original_nonNN, are_original_NN = Cluster.defragment(clusters_nonNN, clusters_NN)\n",
    "\t\n",
    "\tNN_fragmentation_number += len(clusters_NN) - len(clusters_NN_defrag)\n",
    "\tnonNN_fragmentation_number += len(clusters_nonNN) - len(clusters_nonNN_defrag)\n",
    "\n",
    "\tfor cluster in clusters_nonNN_defrag:\n",
    "\t\tcluster.setEnergy(noisy_with_E[i])\n",
    "\t\tcluster.runTests()\n",
    "\t\tif cluster.isGood():\tnonNN_good += 1\n",
    "\t\tnonNN_all += 1\n",
    "\n",
    "\tfor cluster in clusters_NN_defrag:\n",
    "\t\tcluster.setEnergy(noisy_with_E[i])\n",
    "\t\tcluster.runTests()\n",
    "\t\tif cluster.isGood():\tNN_good += 1\n",
    "\t\tNN_all += 1\n",
    "\n",
    "print(\"# nonNN clusters after defragmentation:\", nonNN_all)\n",
    "print(\"# nonNN good clusters after defragmentation:\", nonNN_good)\n",
    "print(\"# NN clusters after defragmentation:\", NN_all)\n",
    "print(\"# NN good clusters after defragmentation:\", NN_good)\n",
    "print(\"\")\n",
    "print(\"nonNN relative precision:\", nonNN_good / nonNN_all)\n",
    "print(\"NN relative precision:\", NN_good / NN_all)\n",
    "print(\"\")\n",
    "print(\"nonNN fragmentation number:\", nonNN_fragmentation_number)\n",
    "print(\"NN fragmentation number:\", NN_fragmentation_number)"
   ]
  }
 ],
 "metadata": {
  "kernelspec": {
   "display_name": "UTEF_ML",
   "language": "python",
   "name": "python3"
  },
  "language_info": {
   "codemirror_mode": {
    "name": "ipython",
    "version": 3
   },
   "file_extension": ".py",
   "mimetype": "text/x-python",
   "name": "python",
   "nbconvert_exporter": "python",
   "pygments_lexer": "ipython3",
   "version": "3.11.5"
  }
 },
 "nbformat": 4,
 "nbformat_minor": 2
}
